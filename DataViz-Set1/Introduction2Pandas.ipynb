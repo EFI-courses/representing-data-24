{
 "cells": [
  {
   "attachments": {
    "image.png": {
     "image/png": "[encoded data removed]"
    }
   },
   "cell_type": "markdown",
   "id": "ed66a387",
   "metadata": {},
   "source": [
    "# An introduction to Pandas\n",
    "\n",
    "[pandas](http://pandas.pydata.org) is a module which allows the construction of a *dataframe*, this is an object to store data that looks a little like a spreadsheet (the data is indexed principally by a column name and row name/number). It also includes functions designed to make working with this structured or tabular data fast and easy.  \n",
    "\n",
    "![image.png](attachment:image.png)\n",
    "\n",
    "Again, the website for Pandas is good and contains the main set of documentation. It is a harder module to understand, and the documentation on the website is more dense to read. [Here](http://pandas.pydata.org/index.html) is the main website. \n",
    "- The main documentation for Pandas is [here](http://pandas.pydata.org/pandas-docs/stable/).\n",
    "- There is a quick introduction to Pandas [here](http://pandas.pydata.org/pandas-docs/stable/10min.html)\n",
    "- There is a fantastic tutorial (also in Jupyter) [here](http://pandas.pydata.org/pandas-docs/stable/tutorials.html) (under Lessons for New Pandas Users). This is well worth working through a little if you want a longer introduction to the basic concepts in Pandas.\n",
    "\n",
    "Here are some basic examples to getting started with pandas, the datasets we use need to be copied into the same location as this notebook in order to use them in our code. "
   ]
  },
  {
   "cell_type": "code",
   "execution_count": 1,
   "id": "b3702dcc",
   "metadata": {},
   "outputs": [],
   "source": [
    "# Common pandas import statement\n",
    "import pandas as pd"
   ]
  },
  {
   "cell_type": "markdown",
   "id": "dcf8c314",
   "metadata": {},
   "source": [
    "Next we will look at a dataset containing some information about recent oil reserves possessed by several different countries. Pandas allows us to *read* this data into a dataframe and then to extract various aspects of it."
   ]
  },
  {
   "cell_type": "code",
   "execution_count": 2,
   "id": "dfd20140",
   "metadata": {},
   "outputs": [
    {
     "name": "stdout",
     "output_type": "stream",
     "text": [
      "   Year/Month  Germany  Denmark  Belgium  Bulgaria\n",
      "0     2017M07    20056     1244     3501      1041\n",
      "1     2017M06    20056     1244     3501      1041\n",
      "2     2017M05    20056     1244     3501      1041\n",
      "3     2017M04    20056     1244     3501      1041\n",
      "4     2017M03    19878     1207     4731       992\n",
      "5     2017M02    19878     1207     4731       992\n",
      "6     2017M01    19878     1207     4731       992\n",
      "7     2016M12    19823     1203     4718       989\n",
      "8     2016M11    19823     1203     4718       989\n",
      "9     2016M10    19823     1203     4718       989\n",
      "10    2016M09    19823     1203     4718       989\n",
      "11    2016M08    19823     1203     4718       989\n",
      "12    2016M07    19823     1203     4718       989\n",
      "13    2016M06    19823     1203     4718       989\n",
      "14    2016M05    19823     1203     4718       989\n",
      "15    2016M04    19823     1203     4718       989\n",
      "16    2016M03    19389     1196     3410       929\n",
      "17    2016M02    19389     1196     3410       929\n",
      "18    2016M01    19389     1196     3410       929\n",
      "19    2015M12    19442     1199     3420       931\n",
      "20    2015M11    19442     1199     3420       931\n",
      "21    2015M10    19442     1199     3420       931\n",
      "22    2015M09    19442     1199     3420       931\n",
      "23    2015M08    19442     1199     3420       931\n",
      "24    2015M07    19442     1199     3420       931\n",
      "25    2015M06    19442     1199     3420       931\n",
      "26    2015M05    19442     1199     3420       931\n",
      "27    2015M04    19442     1199     3420       931\n",
      "28    2015M03    20455     1222     3470       869\n",
      "29    2015M02    20455     1222     3470       869\n",
      "30    2015M01    20455     1222     3470       869\n",
      "31    2014M12    20455     1222     3470       869\n",
      "32    2014M11    20455     1222     3470       869\n",
      "33    2014M10    20455     1222     3470       869\n",
      "34    2014M09    20455     1222     3470       869\n",
      "35    2014M08    20455     1222     3470       869\n",
      "36    2014M07    20455     1222     3470       869\n",
      "37    2014M06    20455     1222     3470       869\n",
      "38    2014M05    20455     1222     3470       869\n",
      "39    2014M04    20455     1223     3470       869\n",
      "40    2014M03    20050     1240     4318       918\n",
      "41    2014M02    20050     1240     4318       918\n",
      "42    2014M01    20050     1240     4318       918\n",
      "43    2013M12    20050     1240     4318       918\n",
      "44    2013M11    20050     1240     4318       918\n",
      "45    2013M10    20050     1240     4318       918\n",
      "46    2013M09    20050     1240     4318       918\n",
      "47    2013M08    20050     1240     4318       918\n",
      "48    2013M07    20050     1240     4318       918\n",
      "49    2013M06    20050     1240     4318       918\n",
      "50    2013M05    20050     1240     4318       918\n",
      "51    2013M04    20050     1240     4318       918\n",
      "52    2013M03    23201     1285     4417       828\n",
      "53    2013M02    23201     1285     4417       828\n",
      "54    2013M01    23201     1285     4417       828\n",
      "-----\n",
      "Index(['Year/Month', 'Germany', 'Denmark', 'Belgium', 'Bulgaria'], dtype='object')\n",
      "-----\n",
      "0     20056\n",
      "1     20056\n",
      "2     20056\n",
      "3     20056\n",
      "4     19878\n",
      "5     19878\n",
      "6     19878\n",
      "7     19823\n",
      "8     19823\n",
      "9     19823\n",
      "10    19823\n",
      "11    19823\n",
      "12    19823\n",
      "13    19823\n",
      "14    19823\n",
      "15    19823\n",
      "16    19389\n",
      "17    19389\n",
      "18    19389\n",
      "19    19442\n",
      "20    19442\n",
      "21    19442\n",
      "22    19442\n",
      "23    19442\n",
      "24    19442\n",
      "25    19442\n",
      "26    19442\n",
      "27    19442\n",
      "28    20455\n",
      "29    20455\n",
      "30    20455\n",
      "31    20455\n",
      "32    20455\n",
      "33    20455\n",
      "34    20455\n",
      "35    20455\n",
      "36    20455\n",
      "37    20455\n",
      "38    20455\n",
      "39    20455\n",
      "40    20050\n",
      "41    20050\n",
      "42    20050\n",
      "43    20050\n",
      "44    20050\n",
      "45    20050\n",
      "46    20050\n",
      "47    20050\n",
      "48    20050\n",
      "49    20050\n",
      "50    20050\n",
      "51    20050\n",
      "52    23201\n",
      "53    23201\n",
      "54    23201\n",
      "Name: Germany, dtype: int64\n",
      "-----\n"
     ]
    }
   ],
   "source": [
    "# Use the read_csv method to make a dataframe from \n",
    "# the csv file:\n",
    "A = pd.read_csv('oil_reserve_data.csv')\n",
    "# We can look at what the dataframe contains \n",
    "# note it looks a little like a spreadsheet view of the data\n",
    "print(A)\n",
    "print('-----')\n",
    "\n",
    "# The keys() are the various names indexing our data - we can pull the \n",
    "# different columns by using these names:\n",
    "print(A.keys())\n",
    "print('-----')\n",
    "\n",
    "# Let's pull the data from a particular column by referring to it\n",
    "# by name:\n",
    "print(A['Germany'])\n",
    "print('-----')"
   ]
  },
  {
   "cell_type": "code",
   "execution_count": 3,
   "id": "0ca94e9a",
   "metadata": {},
   "outputs": [
    {
     "name": "stdout",
     "output_type": "stream",
     "text": [
      "Slice a row from our data - here we take the second row by number\n",
      "Year/Month    2017M06\n",
      "Germany         20056\n",
      "Denmark          1244\n",
      "Belgium          3501\n",
      "Bulgaria         1041\n",
      "Name: 1, dtype: object\n",
      "-----\n",
      "Grab a column by number - here is the second column\n",
      "0     20056\n",
      "1     20056\n",
      "2     20056\n",
      "3     20056\n",
      "4     19878\n",
      "5     19878\n",
      "6     19878\n",
      "7     19823\n",
      "8     19823\n",
      "9     19823\n",
      "10    19823\n",
      "11    19823\n",
      "12    19823\n",
      "13    19823\n",
      "14    19823\n",
      "15    19823\n",
      "16    19389\n",
      "17    19389\n",
      "18    19389\n",
      "19    19442\n",
      "20    19442\n",
      "21    19442\n",
      "22    19442\n",
      "23    19442\n",
      "24    19442\n",
      "25    19442\n",
      "26    19442\n",
      "27    19442\n",
      "28    20455\n",
      "29    20455\n",
      "30    20455\n",
      "31    20455\n",
      "32    20455\n",
      "33    20455\n",
      "34    20455\n",
      "35    20455\n",
      "36    20455\n",
      "37    20455\n",
      "38    20455\n",
      "39    20455\n",
      "40    20050\n",
      "41    20050\n",
      "42    20050\n",
      "43    20050\n",
      "44    20050\n",
      "45    20050\n",
      "46    20050\n",
      "47    20050\n",
      "48    20050\n",
      "49    20050\n",
      "50    20050\n",
      "51    20050\n",
      "52    23201\n",
      "53    23201\n",
      "54    23201\n",
      "Name: Germany, dtype: int64\n",
      "-----\n"
     ]
    }
   ],
   "source": [
    "# We can also slice a row from our data - here we take the second row by number \n",
    "# (numerical index starts counting from 0):\n",
    "print('Slice a row from our data - here we take the second row by number')\n",
    "print(A.iloc[1])\n",
    "print('-----')\n",
    "\n",
    "# Note this returns the value indexed by each column name.\n",
    "# We can also grab a column by number - here is the second column:\n",
    "print('Grab a column by number - here is the second column')\n",
    "print(A.iloc[:,1])\n",
    "print('-----')"
   ]
  },
  {
   "cell_type": "markdown",
   "id": "3ee4c4f0",
   "metadata": {},
   "source": [
    "## Removing columns/indices <a name=\"removing\"></a>\n",
    "Similar to above, it is easy to remove entries. This is done with the `drop()` method and can be applied to both columns and indices:"
   ]
  },
  {
   "cell_type": "code",
   "execution_count": 4,
   "id": "3f87ecea",
   "metadata": {},
   "outputs": [
    {
     "name": "stdout",
     "output_type": "stream",
     "text": [
      "   Edinburgh  Glasgow  Dundee\n",
      "a          0        1       2\n",
      "b          3        4       5\n",
      "c          6        7       8\n"
     ]
    }
   ],
   "source": [
    "import numpy as np\n",
    "# define new DataFrame using a function from NumPy (don't worry about what this line does just now)\n",
    "data = np.reshape(np.arange(9), (3,3))\n",
    "\n",
    "df = pd.DataFrame(data, index=['a','b','c'],\n",
    "                  columns=['Edinburgh', 'Glasgow', 'Dundee'])\n",
    "print(df)"
   ]
  },
  {
   "cell_type": "code",
   "execution_count": 5,
   "id": "767ce56e",
   "metadata": {},
   "outputs": [
    {
     "data": {
      "text/html": [
       "<div>\n",
       "<style scoped>\n",
       "    .dataframe tbody tr th:only-of-type {\n",
       "        vertical-align: middle;\n",
       "    }\n",
       "\n",
       "    .dataframe tbody tr th {\n",
       "        vertical-align: top;\n",
       "    }\n",
       "\n",
       "    .dataframe thead th {\n",
       "        text-align: right;\n",
       "    }\n",
       "</style>\n",
       "<table border=\"1\" class=\"dataframe\">\n",
       "  <thead>\n",
       "    <tr style=\"text-align: right;\">\n",
       "      <th></th>\n",
       "      <th>Edinburgh</th>\n",
       "      <th>Glasgow</th>\n",
       "      <th>Dundee</th>\n",
       "    </tr>\n",
       "  </thead>\n",
       "  <tbody>\n",
       "    <tr>\n",
       "      <th>a</th>\n",
       "      <td>0</td>\n",
       "      <td>1</td>\n",
       "      <td>2</td>\n",
       "    </tr>\n",
       "    <tr>\n",
       "      <th>c</th>\n",
       "      <td>6</td>\n",
       "      <td>7</td>\n",
       "      <td>8</td>\n",
       "    </tr>\n",
       "  </tbody>\n",
       "</table>\n",
       "</div>"
      ],
      "text/plain": [
       "   Edinburgh  Glasgow  Dundee\n",
       "a          0        1       2\n",
       "c          6        7       8"
      ]
     },
     "execution_count": 5,
     "metadata": {},
     "output_type": "execute_result"
    }
   ],
   "source": [
    "df.drop('b')  # remove row (index)~"
   ]
  },
  {
   "cell_type": "code",
   "execution_count": 6,
   "id": "8f76ae15",
   "metadata": {},
   "outputs": [
    {
     "data": {
      "text/html": [
       "<div>\n",
       "<style scoped>\n",
       "    .dataframe tbody tr th:only-of-type {\n",
       "        vertical-align: middle;\n",
       "    }\n",
       "\n",
       "    .dataframe tbody tr th {\n",
       "        vertical-align: top;\n",
       "    }\n",
       "\n",
       "    .dataframe thead th {\n",
       "        text-align: right;\n",
       "    }\n",
       "</style>\n",
       "<table border=\"1\" class=\"dataframe\">\n",
       "  <thead>\n",
       "    <tr style=\"text-align: right;\">\n",
       "      <th></th>\n",
       "      <th>Edinburgh</th>\n",
       "    </tr>\n",
       "  </thead>\n",
       "  <tbody>\n",
       "    <tr>\n",
       "      <th>a</th>\n",
       "      <td>0</td>\n",
       "    </tr>\n",
       "    <tr>\n",
       "      <th>b</th>\n",
       "      <td>3</td>\n",
       "    </tr>\n",
       "    <tr>\n",
       "      <th>c</th>\n",
       "      <td>6</td>\n",
       "    </tr>\n",
       "  </tbody>\n",
       "</table>\n",
       "</div>"
      ],
      "text/plain": [
       "   Edinburgh\n",
       "a          0\n",
       "b          3\n",
       "c          6"
      ]
     },
     "execution_count": 6,
     "metadata": {},
     "output_type": "execute_result"
    }
   ],
   "source": [
    "# You can also drop from a column - here is the way we would drop two columns:\n",
    "df.drop(['Dundee', 'Glasgow'], axis='columns')"
   ]
  },
  {
   "cell_type": "markdown",
   "id": "0ae355d1",
   "metadata": {},
   "source": [
    "Note that the original data frame is unchanged: `df.drop()` gives us a new data frame with the desired data dropped, and leaves the original data intact. We can ask `.drop()` to operate directly on the original data frame by setting the argument `inplace=True`."
   ]
  },
  {
   "cell_type": "code",
   "execution_count": 7,
   "id": "5e99c16a",
   "metadata": {},
   "outputs": [
    {
     "name": "stdout",
     "output_type": "stream",
     "text": [
      "   Edinburgh  Glasgow  Dundee\n",
      "a          0        1       2\n",
      "b          3        4       5\n",
      "c          6        7       8\n",
      "-----\n",
      "   Edinburgh  Glasgow  Dundee\n",
      "b          3        4       5\n",
      "c          6        7       8\n"
     ]
    }
   ],
   "source": [
    "# Original data frame that we created\n",
    "print(df)\n",
    "\n",
    "# Dropping the row called a and updating the df using \"inplace=True\"\n",
    "df.drop('a', inplace=True)\n",
    "print('-----')\n",
    "print(df)"
   ]
  },
  {
   "cell_type": "markdown",
   "id": "f167ae3b",
   "metadata": {},
   "source": [
    "## Indexing\n",
    "\n",
    "Rows and columns in a dataframe can be referred to by name (if they are given a name - for the example at the beginning using oil reserves we didn't specify row names), or by row/column number. \n",
    "\n",
    "**Important Note** - python starts counting from 0, i.e. 0, 1, 2, ... as indexing, not starts from 1 !"
   ]
  },
  {
   "cell_type": "code",
   "execution_count": 8,
   "id": "17aabd36",
   "metadata": {},
   "outputs": [
    {
     "name": "stdout",
     "output_type": "stream",
     "text": [
      "   Edinburgh  Glasgow  Dundee\n",
      "a          0        1       2\n",
      "b          3        4       5\n",
      "c          6        7       8\n"
     ]
    }
   ],
   "source": [
    "df = pd.DataFrame(data, index=['a','b','c'],\n",
    "                  columns=['Edinburgh', 'Glasgow', 'Dundee'])\n",
    "print(df)"
   ]
  },
  {
   "cell_type": "markdown",
   "id": "5ae09c43",
   "metadata": {},
   "source": [
    "We can get the 'a' row by name or by knowing that it is row 0 using the following two pandas functions:"
   ]
  },
  {
   "cell_type": "code",
   "execution_count": 9,
   "id": "060de81a",
   "metadata": {},
   "outputs": [
    {
     "name": "stdout",
     "output_type": "stream",
     "text": [
      "Edinburgh    0\n",
      "Glasgow      1\n",
      "Dundee       2\n",
      "Name: a, dtype: int64\n",
      "-----\n",
      "Edinburgh    0\n",
      "Glasgow      1\n",
      "Dundee       2\n",
      "Name: a, dtype: int64\n"
     ]
    }
   ],
   "source": [
    "# Note where the square brackets are!\n",
    "print(df.loc['a'])\n",
    "print('-----')\n",
    "print(df.iloc[0])"
   ]
  },
  {
   "cell_type": "markdown",
   "id": "08d8b46f",
   "metadata": {},
   "source": [
    "We can also grab two rows at a time by listing them"
   ]
  },
  {
   "cell_type": "code",
   "execution_count": 10,
   "id": "cb0138b6",
   "metadata": {},
   "outputs": [
    {
     "name": "stdout",
     "output_type": "stream",
     "text": [
      "   Edinburgh  Glasgow  Dundee\n",
      "a          0        1       2\n",
      "b          3        4       5\n",
      "-----\n",
      "   Edinburgh  Glasgow  Dundee\n",
      "a          0        1       2\n",
      "b          3        4       5\n"
     ]
    }
   ],
   "source": [
    "# Again note where the square brackets are!\n",
    "print(df.loc[['a','b']])\n",
    "print('-----')\n",
    "print(df.iloc[[0,1]])"
   ]
  },
  {
   "cell_type": "markdown",
   "id": "25a96496",
   "metadata": {},
   "source": [
    "Likewise we can do similar things with **column names** and **numbers** and **multiple column names and numbers** \n",
    "- Here all in one go:"
   ]
  },
  {
   "cell_type": "code",
   "execution_count": 11,
   "id": "015b3878",
   "metadata": {},
   "outputs": [
    {
     "name": "stdout",
     "output_type": "stream",
     "text": [
      "a    0\n",
      "b    3\n",
      "c    6\n",
      "Name: Edinburgh, dtype: int64\n",
      "-----\n",
      "a    0\n",
      "b    3\n",
      "c    6\n",
      "Name: Edinburgh, dtype: int64\n",
      "=====\n",
      "   Edinburgh  Dundee\n",
      "a          0       2\n",
      "b          3       5\n",
      "c          6       8\n",
      "-----\n",
      "   Edinburgh  Dundee\n",
      "a          0       2\n",
      "b          3       5\n",
      "c          6       8\n"
     ]
    }
   ],
   "source": [
    "print(df['Edinburgh'])\n",
    "print('-----')\n",
    "\n",
    "print(df.iloc[:,0])\n",
    "print('=====')\n",
    "\n",
    "print(df[['Edinburgh','Dundee']])\n",
    "print('-----')\n",
    "\n",
    "print(df.iloc[:,[0,2]])"
   ]
  },
  {
   "cell_type": "markdown",
   "id": "a0aea787",
   "metadata": {},
   "source": [
    "## Summarizing and computing descriptive stats\n",
    "`pandas` is equipped with common mathematical and statistical methods. Most of which fall into the category of reductions or summary statistics. These are functions that extract a single value from a list of values. For example, you can extract the sum of a column or row like this:"
   ]
  },
  {
   "cell_type": "code",
   "execution_count": 12,
   "id": "0f458146",
   "metadata": {},
   "outputs": [
    {
     "name": "stdout",
     "output_type": "stream",
     "text": [
      "   Edinburgh  Glasgow  Dundee\n",
      "a          0        1       2\n",
      "b          3        4       5\n",
      "c          6        7       8\n"
     ]
    },
    {
     "data": {
      "text/plain": [
       "Edinburgh     9\n",
       "Glasgow      12\n",
       "Dundee       15\n",
       "dtype: int64"
      ]
     },
     "execution_count": 12,
     "metadata": {},
     "output_type": "execute_result"
    }
   ],
   "source": [
    "print(df)\n",
    "\n",
    "df.sum()"
   ]
  },
  {
   "cell_type": "markdown",
   "id": "f7d94354",
   "metadata": {},
   "source": [
    "Notice how that created the sum of each column?\n",
    "\n",
    "We can sum across rows by adding an extra option to `sum()`\n",
    "   - using `axis='columns'` to get row sum\n",
    "   - using `axis='rows'` to get column sum"
   ]
  },
  {
   "cell_type": "code",
   "execution_count": 13,
   "id": "600e21f1",
   "metadata": {},
   "outputs": [
    {
     "data": {
      "text/plain": [
       "a     3\n",
       "b    12\n",
       "c    21\n",
       "dtype: int64"
      ]
     },
     "execution_count": 13,
     "metadata": {},
     "output_type": "execute_result"
    }
   ],
   "source": [
    "df.sum(axis='columns')"
   ]
  },
  {
   "cell_type": "code",
   "execution_count": 14,
   "id": "e527d919",
   "metadata": {},
   "outputs": [
    {
     "data": {
      "text/plain": [
       "Edinburgh     9\n",
       "Glasgow      12\n",
       "Dundee       15\n",
       "dtype: int64"
      ]
     },
     "execution_count": 14,
     "metadata": {},
     "output_type": "execute_result"
    }
   ],
   "source": [
    "df.sum(axis='rows')"
   ]
  },
  {
   "cell_type": "markdown",
   "id": "fe02ff18",
   "metadata": {},
   "source": [
    "A similar method also exists for obtaining the mean of data:"
   ]
  },
  {
   "cell_type": "code",
   "execution_count": 15,
   "id": "d6e99d38",
   "metadata": {},
   "outputs": [
    {
     "data": {
      "text/plain": [
       "Edinburgh    3.0\n",
       "Glasgow      4.0\n",
       "Dundee       5.0\n",
       "dtype: float64"
      ]
     },
     "execution_count": 15,
     "metadata": {},
     "output_type": "execute_result"
    }
   ],
   "source": [
    "# Return the mean of the values over the requested axis, by default axis=0\n",
    "df.mean()"
   ]
  },
  {
   "cell_type": "markdown",
   "id": "0f3e0162",
   "metadata": {},
   "source": [
    "It is also possible to get an overall statistical description of the dataframe by using the `describe()` function. It is really crucial to understand the meaning of each row! We will talk about these measures regularly during the semester. Just to give a general idea, please look at the following diagram:\n",
    "\n",
    "[![](https://mermaid.ink/img/pako:eNqtlEGPojAUx79K08nc0FAqKN1kkxWvXnYme1iYQ6UPacSWlDIja_zuWwHdcW4bLQlp__33995r0nfEuRaAGd4aXpfodfUtU8iNH-kKmtzI2sp3QC-WW9lYmTdvaDL5jpbpGnjTGkC6QAkoa3iFXkEJUHn3NhJ6Z_LZ-Ysb6UBajZbhvxyQ5Oy87Ixa4DQhv6o0XbucbxjJEIykP7naXrZGMUj7uCr_otPUlaUENwKt4P2a2OB5fnZiIRWgXFfaNB7a6EogCwfrIXcKbSqe71ChlR0cbmrQBqwFgwxwwTeykrYbaI3tKnA3UsiqYk9FeP68xhq9A_bk-_44n3xIYUsW1AfvDJ58gNyWlp0jD0IfqT_hxmf08oKO81CQK5pSejc6GdF5CKSIH4C-yZtcEu_HDf1_ryB4HIreibq5v8eVmDyuxOT-ErGH92D2XArXPo5neIZtCXvIMHNT97B2Gc7Uyfl4a_VLp3LMrGnBw0a32xKzgleNW7W14BZWkrsetL-q7uFbbdZDd-qblIdrrn5r_c_j1pgd8QEzQqdxRII4jkIyp-FsMfdwh1kYTGeELhZ-NHdbsT8_efhPTyBTSomrhEZ-5C_ILDz9BSZbmoo?type=png)](https://mermaid.live/edit#pako:eNqtlEGPojAUx79K08nc0FAqKN1kkxWvXnYme1iYQ6UPacSWlDIja_zuWwHdcW4bLQlp__33995r0nfEuRaAGd4aXpfodfUtU8iNH-kKmtzI2sp3QC-WW9lYmTdvaDL5jpbpGnjTGkC6QAkoa3iFXkEJUHn3NhJ6Z_LZ-Ysb6UBajZbhvxyQ5Oy87Ixa4DQhv6o0XbucbxjJEIykP7naXrZGMUj7uCr_otPUlaUENwKt4P2a2OB5fnZiIRWgXFfaNB7a6EogCwfrIXcKbSqe71ChlR0cbmrQBqwFgwxwwTeykrYbaI3tKnA3UsiqYk9FeP68xhq9A_bk-_44n3xIYUsW1AfvDJ58gNyWlp0jD0IfqT_hxmf08oKO81CQK5pSejc6GdF5CKSIH4C-yZtcEu_HDf1_ryB4HIreibq5v8eVmDyuxOT-ErGH92D2XArXPo5neIZtCXvIMHNT97B2Gc7Uyfl4a_VLp3LMrGnBw0a32xKzgleNW7W14BZWkrsetL-q7uFbbdZDd-qblIdrrn5r_c_j1pgd8QEzQqdxRII4jkIyp-FsMfdwh1kYTGeELhZ-NHdbsT8_efhPTyBTSomrhEZ-5C_ILDz9BSZbmoo)"
   ]
  },
  {
   "cell_type": "code",
   "execution_count": 16,
   "id": "c25c0ecf",
   "metadata": {},
   "outputs": [
    {
     "data": {
      "text/html": [
       "<div>\n",
       "<style scoped>\n",
       "    .dataframe tbody tr th:only-of-type {\n",
       "        vertical-align: middle;\n",
       "    }\n",
       "\n",
       "    .dataframe tbody tr th {\n",
       "        vertical-align: top;\n",
       "    }\n",
       "\n",
       "    .dataframe thead th {\n",
       "        text-align: right;\n",
       "    }\n",
       "</style>\n",
       "<table border=\"1\" class=\"dataframe\">\n",
       "  <thead>\n",
       "    <tr style=\"text-align: right;\">\n",
       "      <th></th>\n",
       "      <th>Edinburgh</th>\n",
       "      <th>Glasgow</th>\n",
       "      <th>Dundee</th>\n",
       "    </tr>\n",
       "  </thead>\n",
       "  <tbody>\n",
       "    <tr>\n",
       "      <th>count</th>\n",
       "      <td>3.0</td>\n",
       "      <td>3.0</td>\n",
       "      <td>3.0</td>\n",
       "    </tr>\n",
       "    <tr>\n",
       "      <th>mean</th>\n",
       "      <td>3.0</td>\n",
       "      <td>4.0</td>\n",
       "      <td>5.0</td>\n",
       "    </tr>\n",
       "    <tr>\n",
       "      <th>std</th>\n",
       "      <td>3.0</td>\n",
       "      <td>3.0</td>\n",
       "      <td>3.0</td>\n",
       "    </tr>\n",
       "    <tr>\n",
       "      <th>min</th>\n",
       "      <td>0.0</td>\n",
       "      <td>1.0</td>\n",
       "      <td>2.0</td>\n",
       "    </tr>\n",
       "    <tr>\n",
       "      <th>25%</th>\n",
       "      <td>1.5</td>\n",
       "      <td>2.5</td>\n",
       "      <td>3.5</td>\n",
       "    </tr>\n",
       "    <tr>\n",
       "      <th>50%</th>\n",
       "      <td>3.0</td>\n",
       "      <td>4.0</td>\n",
       "      <td>5.0</td>\n",
       "    </tr>\n",
       "    <tr>\n",
       "      <th>75%</th>\n",
       "      <td>4.5</td>\n",
       "      <td>5.5</td>\n",
       "      <td>6.5</td>\n",
       "    </tr>\n",
       "    <tr>\n",
       "      <th>max</th>\n",
       "      <td>6.0</td>\n",
       "      <td>7.0</td>\n",
       "      <td>8.0</td>\n",
       "    </tr>\n",
       "  </tbody>\n",
       "</table>\n",
       "</div>"
      ],
      "text/plain": [
       "       Edinburgh  Glasgow  Dundee\n",
       "count        3.0      3.0     3.0\n",
       "mean         3.0      4.0     5.0\n",
       "std          3.0      3.0     3.0\n",
       "min          0.0      1.0     2.0\n",
       "25%          1.5      2.5     3.5\n",
       "50%          3.0      4.0     5.0\n",
       "75%          4.5      5.5     6.5\n",
       "max          6.0      7.0     8.0"
      ]
     },
     "execution_count": 16,
     "metadata": {},
     "output_type": "execute_result"
    }
   ],
   "source": [
    "# Generate descriptive statistics.\n",
    "df.describe()"
   ]
  },
  {
   "cell_type": "markdown",
   "id": "fe92411a",
   "metadata": {},
   "source": [
    "## Data Loading\n",
    "\n",
    "- Clearly one thing we will need to do often is to access datasets and load them into python in order to work with them. \n",
    "- A pandas dataframe is a really convenient way of storing data within python and manipulating it. \n",
    "- Thankfully pandas also has functions which help load in various different standard data storage formats. \n",
    "\n",
    "We'll come back to this topic later - but for now we will just introduce two ways to load data, contained in csv and excel formats.\n",
    "\n",
    "`.csv` is a very common and portable data format. It is an easy to read file format which is usually visualised like a spreadsheet. The data itself is usually separated with a `,` which is called the **delimiter** separating enrties between the items to appear in each column, the next row is then simply on the next line.\n",
    "\n",
    "Let's now see how we can load this data and analyse it - we have already seen this line before above - but here it is again reading in a `.csv` file"
   ]
  },
  {
   "cell_type": "code",
   "execution_count": 17,
   "id": "ea97cc42",
   "metadata": {},
   "outputs": [],
   "source": [
    "reserves = pd.read_csv('oil_reserve_data.csv')"
   ]
  },
  {
   "cell_type": "markdown",
   "id": "71e96cd3",
   "metadata": {},
   "source": [
    "For reading in an excel file there is a similar `read_excel()` function we can use"
   ]
  },
  {
   "cell_type": "code",
   "execution_count": 18,
   "id": "ee9570c5",
   "metadata": {},
   "outputs": [
    {
     "name": "stdout",
     "output_type": "stream",
     "text": [
      "   Year  Sawnwood  Woodbased panels  Other wood  Wood pellets  Paper  Pulp  \\\n",
      "0  2013      5488              2964        1267          3432   5929  1100   \n",
      "1  2014      6425              3260        1329          4773   5949  1234   \n",
      "2  2015      6323              3215        1378          6573   6032  1223   \n",
      "3  2016      6646              3410        1208          6782   5876  1092   \n",
      "4  2017      7580              3826        1681          6886   5604  1081   \n",
      "\n",
      "   Recovered paper  Total Pulp and Paper  \n",
      "0              184                  7213  \n",
      "1              136                  7319  \n",
      "2              305                  7560  \n",
      "3              125                  7092  \n",
      "4              107                  6792  \n"
     ]
    }
   ],
   "source": [
    "wood_imports = pd.read_excel('UK_wood_imports.xlsx')\n",
    "print(wood_imports)"
   ]
  },
  {
   "cell_type": "code",
   "execution_count": 19,
   "id": "2aabfab6",
   "metadata": {},
   "outputs": [
    {
     "data": {
      "text/html": [
       "<div>\n",
       "<style scoped>\n",
       "    .dataframe tbody tr th:only-of-type {\n",
       "        vertical-align: middle;\n",
       "    }\n",
       "\n",
       "    .dataframe tbody tr th {\n",
       "        vertical-align: top;\n",
       "    }\n",
       "\n",
       "    .dataframe thead th {\n",
       "        text-align: right;\n",
       "    }\n",
       "</style>\n",
       "<table border=\"1\" class=\"dataframe\">\n",
       "  <thead>\n",
       "    <tr style=\"text-align: right;\">\n",
       "      <th></th>\n",
       "      <th>Year</th>\n",
       "      <th>Sawnwood</th>\n",
       "      <th>Woodbased panels</th>\n",
       "      <th>Other wood</th>\n",
       "      <th>Wood pellets</th>\n",
       "      <th>Paper</th>\n",
       "      <th>Pulp</th>\n",
       "      <th>Recovered paper</th>\n",
       "      <th>Total Pulp and Paper</th>\n",
       "    </tr>\n",
       "  </thead>\n",
       "  <tbody>\n",
       "    <tr>\n",
       "      <th>count</th>\n",
       "      <td>5.000000</td>\n",
       "      <td>5.00000</td>\n",
       "      <td>5.000000</td>\n",
       "      <td>5.000000</td>\n",
       "      <td>5.000000</td>\n",
       "      <td>5.000000</td>\n",
       "      <td>5.000000</td>\n",
       "      <td>5.000000</td>\n",
       "      <td>5.000000</td>\n",
       "    </tr>\n",
       "    <tr>\n",
       "      <th>mean</th>\n",
       "      <td>2015.000000</td>\n",
       "      <td>6492.40000</td>\n",
       "      <td>3335.000000</td>\n",
       "      <td>1372.600000</td>\n",
       "      <td>5689.200000</td>\n",
       "      <td>5878.000000</td>\n",
       "      <td>1146.000000</td>\n",
       "      <td>171.400000</td>\n",
       "      <td>7195.200000</td>\n",
       "    </tr>\n",
       "    <tr>\n",
       "      <th>std</th>\n",
       "      <td>1.581139</td>\n",
       "      <td>749.75416</td>\n",
       "      <td>317.951254</td>\n",
       "      <td>183.905682</td>\n",
       "      <td>1528.235813</td>\n",
       "      <td>163.124186</td>\n",
       "      <td>75.713275</td>\n",
       "      <td>79.939352</td>\n",
       "      <td>283.700018</td>\n",
       "    </tr>\n",
       "    <tr>\n",
       "      <th>min</th>\n",
       "      <td>2013.000000</td>\n",
       "      <td>5488.00000</td>\n",
       "      <td>2964.000000</td>\n",
       "      <td>1208.000000</td>\n",
       "      <td>3432.000000</td>\n",
       "      <td>5604.000000</td>\n",
       "      <td>1081.000000</td>\n",
       "      <td>107.000000</td>\n",
       "      <td>6792.000000</td>\n",
       "    </tr>\n",
       "    <tr>\n",
       "      <th>25%</th>\n",
       "      <td>2014.000000</td>\n",
       "      <td>6323.00000</td>\n",
       "      <td>3215.000000</td>\n",
       "      <td>1267.000000</td>\n",
       "      <td>4773.000000</td>\n",
       "      <td>5876.000000</td>\n",
       "      <td>1092.000000</td>\n",
       "      <td>125.000000</td>\n",
       "      <td>7092.000000</td>\n",
       "    </tr>\n",
       "    <tr>\n",
       "      <th>50%</th>\n",
       "      <td>2015.000000</td>\n",
       "      <td>6425.00000</td>\n",
       "      <td>3260.000000</td>\n",
       "      <td>1329.000000</td>\n",
       "      <td>6573.000000</td>\n",
       "      <td>5929.000000</td>\n",
       "      <td>1100.000000</td>\n",
       "      <td>136.000000</td>\n",
       "      <td>7213.000000</td>\n",
       "    </tr>\n",
       "    <tr>\n",
       "      <th>75%</th>\n",
       "      <td>2016.000000</td>\n",
       "      <td>6646.00000</td>\n",
       "      <td>3410.000000</td>\n",
       "      <td>1378.000000</td>\n",
       "      <td>6782.000000</td>\n",
       "      <td>5949.000000</td>\n",
       "      <td>1223.000000</td>\n",
       "      <td>184.000000</td>\n",
       "      <td>7319.000000</td>\n",
       "    </tr>\n",
       "    <tr>\n",
       "      <th>max</th>\n",
       "      <td>2017.000000</td>\n",
       "      <td>7580.00000</td>\n",
       "      <td>3826.000000</td>\n",
       "      <td>1681.000000</td>\n",
       "      <td>6886.000000</td>\n",
       "      <td>6032.000000</td>\n",
       "      <td>1234.000000</td>\n",
       "      <td>305.000000</td>\n",
       "      <td>7560.000000</td>\n",
       "    </tr>\n",
       "  </tbody>\n",
       "</table>\n",
       "</div>"
      ],
      "text/plain": [
       "              Year    Sawnwood  Woodbased panels   Other wood  Wood pellets  \\\n",
       "count     5.000000     5.00000          5.000000     5.000000      5.000000   \n",
       "mean   2015.000000  6492.40000       3335.000000  1372.600000   5689.200000   \n",
       "std       1.581139   749.75416        317.951254   183.905682   1528.235813   \n",
       "min    2013.000000  5488.00000       2964.000000  1208.000000   3432.000000   \n",
       "25%    2014.000000  6323.00000       3215.000000  1267.000000   4773.000000   \n",
       "50%    2015.000000  6425.00000       3260.000000  1329.000000   6573.000000   \n",
       "75%    2016.000000  6646.00000       3410.000000  1378.000000   6782.000000   \n",
       "max    2017.000000  7580.00000       3826.000000  1681.000000   6886.000000   \n",
       "\n",
       "             Paper         Pulp  Recovered paper  Total Pulp and Paper  \n",
       "count     5.000000     5.000000         5.000000              5.000000  \n",
       "mean   5878.000000  1146.000000       171.400000           7195.200000  \n",
       "std     163.124186    75.713275        79.939352            283.700018  \n",
       "min    5604.000000  1081.000000       107.000000           6792.000000  \n",
       "25%    5876.000000  1092.000000       125.000000           7092.000000  \n",
       "50%    5929.000000  1100.000000       136.000000           7213.000000  \n",
       "75%    5949.000000  1223.000000       184.000000           7319.000000  \n",
       "max    6032.000000  1234.000000       305.000000           7560.000000  "
      ]
     },
     "execution_count": 19,
     "metadata": {},
     "output_type": "execute_result"
    }
   ],
   "source": [
    "wood_imports.describe()"
   ]
  },
  {
   "cell_type": "code",
   "execution_count": 21,
   "id": "84fff55a",
   "metadata": {},
   "outputs": [],
   "source": [
    "wood_imports = pd.read_excel('UK_wood_imports.xlsx')"
   ]
  },
  {
   "cell_type": "code",
   "execution_count": null,
   "id": "6589b6ec",
   "metadata": {},
   "outputs": [],
   "source": []
  },
  {
   "cell_type": "markdown",
   "id": "47235c6e",
   "metadata": {},
   "source": [
    "- The `read_csv` function has a lot of optional arguments (more than 50). It's impossible to memorise all of them - it's usually best just to look up the particular functionality when you need it. \n",
    "\n",
    "- You can search `pandas read_csv` online and find all of the documentation.\n",
    "\n",
    "There are also many other functions that can read textual data. Here are some of them:\n",
    "\n",
    "| Function | Description\n",
    "| -- | -- |\n",
    "| read_csv       | Load delimited data from a file, URL, or file-like object. The default delimiter is a comma `,` |\n",
    "| read_table     | Load delimited data from a file, URL, or file-like object. The default delimiter is tab `\\t` |\n",
    "| read_clipboard | Reads the last object you have copied (Ctrl-C) |\n",
    "| read_excel     | Read tabular data from Excel XLS or XLSX file |\n",
    "| read_hdf       | Read HDF5 file written by pandas |\n",
    "| read_html      | Read all tables found in the given HTML document |\n",
    "| read_json      | Read data from a JSON string representation |\n",
    "| read_sql       | Read the results of a SQL query |\n",
    "\n",
    "**Note: There are also other loading functions which are not touched upon here**\n",
    "\n",
    "We will talk about some of these in a later notebook to give you some examples of different data types and how to work with them and read them into a dataframe for manipulation."
   ]
  },
  {
   "cell_type": "markdown",
   "id": "84fba4a1",
   "metadata": {},
   "source": [
    "## Data Cleaning \n",
    "\n",
    "While planning and constructing a data analysis, a significant amount of time is spent on data preparation: loading, cleaning, transforming and rearranging. \n",
    "\n",
    "- Often the way the data is stored in files isn't in the correct format and needs to be modified. \n",
    "- Researchers usually do this on an ad-hoc basis using programming languages like Python, we will also be talking about examples of this where we simply do some of this preparation within Excel.\n",
    "\n",
    "Here we will discuss some of the pandas tools available for handling missing data, duplicate data, string manipulation, and some other analytical data transformations.\n",
    "\n",
    "### Handling missing data \n",
    "Missing data occurs commonly in many data analysis applications. One of the goals of pandas is to make working with missing data as painless as possible.\n",
    "\n",
    "In pandas, missing numeric data is represented by `NaN` (Not a Number) and can easily be handled:"
   ]
  },
  {
   "cell_type": "code",
   "execution_count": 22,
   "id": "ca5e67ae",
   "metadata": {},
   "outputs": [],
   "source": [
    "import numpy as np\n",
    "import pandas as pd\n",
    "# define new DataFrame using a function from NumPy (don't worry about what this line does just now)\n",
    "df_new = np.reshape(np.arange(9), (3,3))"
   ]
  },
  {
   "cell_type": "code",
   "execution_count": 23,
   "id": "1396af6e",
   "metadata": {},
   "outputs": [
    {
     "name": "stdout",
     "output_type": "stream",
     "text": [
      "[[0 1 2]\n",
      " [3 4 5]\n",
      " [6 7 8]]\n"
     ]
    }
   ],
   "source": [
    "print(df_new)"
   ]
  },
  {
   "cell_type": "code",
   "execution_count": 24,
   "id": "1493e137",
   "metadata": {},
   "outputs": [
    {
     "name": "stdout",
     "output_type": "stream",
     "text": [
      "   Edinburgh  Glasgow  Dundee\n",
      "a          0        1       2\n",
      "b          3        4       5\n",
      "c          6        7       8\n",
      "-----\n"
     ]
    }
   ],
   "source": [
    "# Here is our example dataframe again:\n",
    "df_new = pd.DataFrame(data, index=['a','b','c'],\n",
    "                  columns=['Edinburgh', 'Glasgow', 'Dundee'])\n",
    "print(df_new)\n",
    "print('-----')\n"
   ]
  },
  {
   "cell_type": "code",
   "execution_count": 25,
   "id": "0b70a14c",
   "metadata": {},
   "outputs": [
    {
     "name": "stdout",
     "output_type": "stream",
     "text": [
      "   Edinburgh  Glasgow  Dundee\n",
      "a        NaN        1       2\n",
      "b        3.0        4       5\n",
      "c        6.0        7       8\n",
      "-----\n",
      "   Edinburgh  Glasgow  Dundee\n",
      "a       True    False   False\n",
      "b      False    False   False\n",
      "c      False    False   False\n"
     ]
    }
   ],
   "source": [
    "# We will reset one element as NaN (note we have to get that from NumPy)\n",
    "df['Edinburgh']['a']=np.nan\n",
    "print(df)\n",
    "print('-----')\n",
    "\n",
    "# We can then find all the NaN values:\n",
    "print(df.isnull())"
   ]
  },
  {
   "cell_type": "markdown",
   "id": "2938190f",
   "metadata": {},
   "source": [
    "Here are some other methods for working with `NaN` which you can find useful:\n",
    "    \n",
    "| Method | Description |\n",
    "| -- | -- |\n",
    "| dropna | Filter axis labels based on whether the values of each label have missing data|\n",
    "| fillna | Fill in missing data with some value |\n",
    "| isnull | Return boolean values indicating which values are missing |\n",
    "| notnull | Negation of isnull |\n",
    "\n",
    "Just like `.drop()`, these methods all return a new object, leaving the original unchanged (this behaviour can be overridden using the argument `inplace=True`).\n",
    "\n",
    "`dropna()` by default removes any row that has any missing value. Here's the example with this applied:"
   ]
  },
  {
   "cell_type": "code",
   "execution_count": 26,
   "id": "a52f0b72",
   "metadata": {},
   "outputs": [
    {
     "name": "stdout",
     "output_type": "stream",
     "text": [
      "   Edinburgh  Glasgow  Dundee\n",
      "b        3.0        4       5\n",
      "c        6.0        7       8\n"
     ]
    }
   ],
   "source": [
    "print(df.dropna())"
   ]
  },
  {
   "cell_type": "markdown",
   "id": "0e613464",
   "metadata": {},
   "source": [
    "We can also drop a row only if all of the entries are `NaN` - here's how:"
   ]
  },
  {
   "cell_type": "code",
   "execution_count": 27,
   "id": "aca8d37e",
   "metadata": {},
   "outputs": [
    {
     "name": "stdout",
     "output_type": "stream",
     "text": [
      "   Edinburgh  Glasgow  Dundee\n",
      "a        NaN      NaN     NaN\n",
      "b        NaN      4.0     5.0\n",
      "c        NaN      7.0     8.0\n",
      "-----\n",
      "Empty DataFrame\n",
      "Columns: [Edinburgh, Glasgow, Dundee]\n",
      "Index: []\n",
      "-----\n",
      "   Edinburgh  Glasgow  Dundee\n",
      "b        NaN      4.0     5.0\n",
      "c        NaN      7.0     8.0\n"
     ]
    }
   ],
   "source": [
    "df['Edinburgh'] = np.nan\n",
    "df.iloc[0] = np.nan\n",
    "\n",
    "print(df)\n",
    "print('-----')\n",
    "\n",
    "print(df.dropna()) # Or write as print(df.dropna(how='any'))\n",
    "print('-----')\n",
    "\n",
    "# Using with additional 'how' argument below: \n",
    "# 'any' : If any NA values are present, drop that row or column.\n",
    "# 'all' : If all values are NA, drop that row or column.\n",
    "print(df.dropna(how='all'))"
   ]
  },
  {
   "cell_type": "markdown",
   "id": "81d9e4d9",
   "metadata": {},
   "source": [
    "We could also choose to fill in the `NaN` values with a 0 say using `fillna()`"
   ]
  },
  {
   "cell_type": "code",
   "execution_count": 28,
   "id": "e6b83614",
   "metadata": {},
   "outputs": [
    {
     "name": "stdout",
     "output_type": "stream",
     "text": [
      "   Edinburgh  Glasgow  Dundee\n",
      "a        NaN      NaN     NaN\n",
      "b        NaN      4.0     5.0\n",
      "c        NaN      7.0     8.0\n",
      "-----\n",
      "   Edinburgh  Glasgow  Dundee\n",
      "a        0.0      0.0     0.0\n",
      "b        0.0      4.0     5.0\n",
      "c        0.0      7.0     8.0\n",
      "-----\n"
     ]
    }
   ],
   "source": [
    "print(df)\n",
    "print('-----')\n",
    "\n",
    "print(df.fillna(0))\n",
    "print('-----')"
   ]
  },
  {
   "cell_type": "markdown",
   "id": "3cbb1e88",
   "metadata": {},
   "source": [
    "## Data Transformation\n",
    "\n",
    "### 1. Removing duplicates\n",
    "Duplicate data can be a serious issue, luckily pandas offers a simple way to remove duplicates"
   ]
  },
  {
   "cell_type": "code",
   "execution_count": 29,
   "id": "06a50b46",
   "metadata": {},
   "outputs": [
    {
     "name": "stdout",
     "output_type": "stream",
     "text": [
      "   0\n",
      "0  a\n",
      "1  b\n",
      "2  c\n",
      "3  d\n",
      "4  c\n",
      "5  b\n",
      "6  a\n",
      "-----\n",
      "   0\n",
      "0  a\n",
      "1  b\n",
      "2  c\n",
      "3  d\n"
     ]
    }
   ],
   "source": [
    "repeat_df = pd.DataFrame(['a','b','c','d','c','b','a'])\n",
    "print(repeat_df)\n",
    "print('-----')\n",
    "\n",
    "print(repeat_df.drop_duplicates())"
   ]
  },
  {
   "cell_type": "markdown",
   "id": "42a3bbd5",
   "metadata": {},
   "source": [
    "You can also select which rows to keep"
   ]
  },
  {
   "cell_type": "code",
   "execution_count": 30,
   "id": "74ce73db",
   "metadata": {},
   "outputs": [
    {
     "name": "stdout",
     "output_type": "stream",
     "text": [
      "   0\n",
      "3  d\n",
      "4  c\n",
      "5  b\n",
      "6  a\n"
     ]
    }
   ],
   "source": [
    "print(repeat_df.drop_duplicates(keep='last'))"
   ]
  },
  {
   "cell_type": "markdown",
   "id": "de4107d6",
   "metadata": {},
   "source": [
    "### 2. Replacing data\n",
    "We've seen how you can fill in missing non numerical data with `fillna()`. That is actually a special case of more general value replacement. That is done via the `replace()` method.\n",
    "\n",
    "Let's consider an example where the dataset given to us had `-999` as sentinel values for missing data instead of `NaN`."
   ]
  },
  {
   "cell_type": "code",
   "execution_count": 31,
   "id": "20ba201b",
   "metadata": {},
   "outputs": [
    {
     "name": "stdout",
     "output_type": "stream",
     "text": [
      "       0\n",
      "0    1.0\n",
      "1 -999.0\n",
      "2    2.0\n",
      "3 -999.0\n",
      "4    3.0\n",
      "5    4.0\n",
      "6 -999.0\n",
      "7 -999.0\n",
      "8    7.0\n",
      "-----\n",
      "     0\n",
      "0  1.0\n",
      "1  NaN\n",
      "2  2.0\n",
      "3  NaN\n",
      "4  3.0\n",
      "5  4.0\n",
      "6  NaN\n",
      "7  NaN\n",
      "8  7.0\n"
     ]
    }
   ],
   "source": [
    "sentinel_df = pd.DataFrame([1., -999., 2., -999., 3., 4., -999, -999, 7.])\n",
    "print(sentinel_df)\n",
    "print('-----')\n",
    "\n",
    "print(sentinel_df.replace(-999, np.nan))"
   ]
  },
  {
   "cell_type": "markdown",
   "id": "c890c2a8",
   "metadata": {},
   "source": [
    "We could likewise have replaced with another number, or replaced text instead of numbers, and of course we can always make these changes with `inplace=True` as an option to modify our original dataframe."
   ]
  },
  {
   "cell_type": "markdown",
   "id": "ec1437aa",
   "metadata": {},
   "source": [
    "### 3. Detecting and Filtering Outliers\n",
    "Filtering or transforming outliers is largely a matter of applying array operations. Consider a dataframe with some normally distributed data (don't worry about how we are generating this - but it is done with NumPy again!):"
   ]
  },
  {
   "cell_type": "code",
   "execution_count": 32,
   "id": "ecb64a48",
   "metadata": {},
   "outputs": [
    {
     "name": "stdout",
     "output_type": "stream",
     "text": [
      "                 0            1\n",
      "count  1000.000000  1000.000000\n",
      "mean     -0.024234    -0.016052\n",
      "std       0.999057     1.010843\n",
      "min      -3.130510    -3.375023\n",
      "25%      -0.654695    -0.715931\n",
      "50%      -0.033217    -0.029855\n",
      "75%       0.671349     0.625514\n",
      "max       3.561907     2.949677\n"
     ]
    }
   ],
   "source": [
    "# Generate two columns of normal (Gaussian, bell-shaped) data with the same parameters) \n",
    "# each with 1000 data points\n",
    "norm_data = pd.DataFrame(np.random.randn(1000, 2))\n",
    "print(norm_data.describe())"
   ]
  },
  {
   "cell_type": "markdown",
   "id": "06f90b8a",
   "metadata": {},
   "source": [
    "Suppose we now want to find all the values exceeding 1.5 from the columns."
   ]
  },
  {
   "cell_type": "code",
   "execution_count": null,
   "id": "791022c1",
   "metadata": {},
   "outputs": [],
   "source": [
    "print(norm_data[norm_data > 1.5])\n",
    "# to see it better remove NaN:\n",
    "print(norm_data[norm_data > 1.5].dropna(how='all'))"
   ]
  },
  {
   "cell_type": "markdown",
   "id": "698b51a2",
   "metadata": {},
   "source": [
    "We could set a ceiling for these values at 1.5, by simply replacing them if they exceed that value:"
   ]
  },
  {
   "cell_type": "code",
   "execution_count": 33,
   "id": "f914f695",
   "metadata": {},
   "outputs": [
    {
     "data": {
      "text/html": [
       "<div>\n",
       "<style scoped>\n",
       "    .dataframe tbody tr th:only-of-type {\n",
       "        vertical-align: middle;\n",
       "    }\n",
       "\n",
       "    .dataframe tbody tr th {\n",
       "        vertical-align: top;\n",
       "    }\n",
       "\n",
       "    .dataframe thead th {\n",
       "        text-align: right;\n",
       "    }\n",
       "</style>\n",
       "<table border=\"1\" class=\"dataframe\">\n",
       "  <thead>\n",
       "    <tr style=\"text-align: right;\">\n",
       "      <th></th>\n",
       "      <th>0</th>\n",
       "      <th>1</th>\n",
       "    </tr>\n",
       "  </thead>\n",
       "  <tbody>\n",
       "    <tr>\n",
       "      <th>count</th>\n",
       "      <td>1000.000000</td>\n",
       "      <td>1000.000000</td>\n",
       "    </tr>\n",
       "    <tr>\n",
       "      <th>mean</th>\n",
       "      <td>-0.049741</td>\n",
       "      <td>-0.051353</td>\n",
       "    </tr>\n",
       "    <tr>\n",
       "      <th>std</th>\n",
       "      <td>0.946525</td>\n",
       "      <td>0.941381</td>\n",
       "    </tr>\n",
       "    <tr>\n",
       "      <th>min</th>\n",
       "      <td>-3.130510</td>\n",
       "      <td>-3.375023</td>\n",
       "    </tr>\n",
       "    <tr>\n",
       "      <th>25%</th>\n",
       "      <td>-0.654695</td>\n",
       "      <td>-0.715931</td>\n",
       "    </tr>\n",
       "    <tr>\n",
       "      <th>50%</th>\n",
       "      <td>-0.033217</td>\n",
       "      <td>-0.029855</td>\n",
       "    </tr>\n",
       "    <tr>\n",
       "      <th>75%</th>\n",
       "      <td>0.671349</td>\n",
       "      <td>0.625514</td>\n",
       "    </tr>\n",
       "    <tr>\n",
       "      <th>max</th>\n",
       "      <td>1.500000</td>\n",
       "      <td>1.500000</td>\n",
       "    </tr>\n",
       "  </tbody>\n",
       "</table>\n",
       "</div>"
      ],
      "text/plain": [
       "                 0            1\n",
       "count  1000.000000  1000.000000\n",
       "mean     -0.049741    -0.051353\n",
       "std       0.946525     0.941381\n",
       "min      -3.130510    -3.375023\n",
       "25%      -0.654695    -0.715931\n",
       "50%      -0.033217    -0.029855\n",
       "75%       0.671349     0.625514\n",
       "max       1.500000     1.500000"
      ]
     },
     "execution_count": 33,
     "metadata": {},
     "output_type": "execute_result"
    }
   ],
   "source": [
    "norm_data[norm_data > 1.5] = 1.5\n",
    "norm_data.describe()"
   ]
  },
  {
   "cell_type": "markdown",
   "id": "82885cb9",
   "metadata": {},
   "source": [
    "- Note the max of each column is now pinned at 1.5 exactly.\n",
    "\n",
    "- What we just did is called **boolean indexing**. Where the condition we specify is `True` we ask pandas to do something, where it is `False` we leave the data alone."
   ]
  },
  {
   "cell_type": "markdown",
   "id": "513b176c",
   "metadata": {},
   "source": [
    "## WHAT is NEXT ?\n",
    "\n",
    "You will see now; \n",
    "\n",
    "- introduction to visualization in python\n",
    "\n",
    "REMINDER\n",
    "\n",
    "- **If you have experienced the Insights Through Data (ITD) module in SEM1, you can recall examples of certain libraries including pandas easily we hope. After checking the examples feel free to skip `Introduction2Pandas.ipynb` file, and focus more on the visualization one, `Introduction2DataViz.ipynb`.**\n",
    "\n",
    "- **If you are a novice learner and wanted to make further exercises on numpy, pandas, please let us know! Remember these are some basics to warm-up to be familiar with the python syntax, it is still useful for data viz related code writing in python.**\n",
    "\n",
    "- **If you find any error/typo or misleading information on the code scripts, please share your questions/notes via `Coding Support` channel in Teams.** "
   ]
  }
 ],
 "metadata": {
  "kernelspec": {
   "display_name": "Python 3 (ipykernel)",
   "language": "python",
   "name": "python3"
  },
  "language_info": {
   "codemirror_mode": {
    "name": "ipython",
    "version": 3
   },
   "file_extension": ".py",
   "mimetype": "text/x-python",
   "name": "python",
   "nbconvert_exporter": "python",
   "pygments_lexer": "ipython3",
   "version": "3.9.13"
  }
 },
 "nbformat": 4,
 "nbformat_minor": 5
}
