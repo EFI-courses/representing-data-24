{
 "cells": [
  {
   "cell_type": "markdown",
   "id": "11017a6d",
   "metadata": {},
   "source": [
    "# Introduction\n",
    "\n",
    "The purpose of this course is to introduce you to some of the theory and practice of data visualisation. Through these computational notebooks we will be covering some introductory ideas for coding in python, but particularly with a view to manipulating datasets and making visualisations using python language. \n",
    "\n",
    "The ideas we cover will be presented using specific datasets and modules (collections of tools), but these ideas are more generally applicable, and you will find several other modules that are used for data visualisation besides the ones we will talk about.\n",
    "\n",
    "## Python\n",
    "\n",
    "Since it first appeared in 1991, Python has become one of the most important programming languages today. For various historical and cultural reasons, Python has developed a large and active scientific computing and data analysis community. In the last 10 years, Python has gone from bleeding-edge and experimental to one of the most important languages for data science, machine learning and general software development in academia and industry.\n",
    "\n",
    "Python offers a lot of versatile tools for data manipulation and visualisation which are added in the form of modules (which are sets of tools you can import and use). \n",
    "\n",
    "The main ones we will talk about and use are Pandas and Altair. But before diving into Altair world, you will see some reminders from matplotlib and seaborn examples on data visualization tasks. For your portfolio examples or projects, you are free to prefer to choose specific tool, as long as their functionalities are aligning with your goal. \n",
    "\n",
    "## Noteable\n",
    "\n",
    "Noteable is simply the university's service that hosts your computational notebooks in one simple online hub. We will be using Python (notebooks) on Noteable, instead of installing Python on your computers, because it makes the logistics much easier.\n",
    "\n",
    "## Jupyter\n",
    "\n",
    "A Jupyter notebook is this current web-based interface that looks like a notebook and has text and code together. The code we write here is in Python language. The code and text are live here, meaning that you can run and edit them. To edit any block of text or code, double-click on it.\n",
    "\n",
    "## Please ask lots of questions!\n",
    "\n",
    "Coding can be hard, particularly if you have done little of it before. It is very common to start writing code and find that a lot of time is spent where it simply doesn't work - this is completely normal! \n",
    "\n",
    "Learning to understand where things have gone wrong and systematically adjust and fix them to get the output you want is a large part of working with code. This is something the instructors on the course can help with - please do ask questions of us, but also to each other, and pitch in your answers if you see some questions you can solve as well.\n",
    "\n",
    "`\"Two heads are better than one.\" (proverb)`\n",
    "\n",
    "---"
   ]
  },
  {
   "cell_type": "markdown",
   "id": "d16aff16",
   "metadata": {},
   "source": [
    "# Jupyter - this 'notebook' \n",
    "\n",
    "During the course you can use the Jupyter Notebooks either via Noteable system or in your local (up to you). \n",
    "They are simply a web-based interface for Python which can also have text and visualisations in between blocks of code. The code is live - you can run it, edit it, get the output etc.\n",
    "\n",
    "To try it out let's write our first line of Python code!\n",
    "Simply select the code snippet below and click the `Run` button in the toolbar near the top of the window."
   ]
  },
  {
   "cell_type": "code",
   "execution_count": null,
   "id": "a3b42452",
   "metadata": {},
   "outputs": [],
   "source": [
    "print(\"Hello world\")"
   ]
  },
  {
   "cell_type": "markdown",
   "id": "ae3f409c",
   "metadata": {},
   "source": [
    "To save yourself a couple of clicks you can also press `Shift + Enter` after highlighting a code cell and it will execute. Try it out."
   ]
  },
  {
   "cell_type": "code",
   "execution_count": null,
   "id": "535c0cc1",
   "metadata": {},
   "outputs": [],
   "source": [
    "import this"
   ]
  },
  {
   "cell_type": "markdown",
   "id": "ca5c6f7a",
   "metadata": {},
   "source": [
    "**Look at the Cell inside by clicking twice**\n",
    "\n",
    "All the cells containing text (called Markdown here as it uses a special style for formatting), and code in Jupyter are interactive and you can change them. For example you can go back to the print statement above and change the words inside the \"\" to make it print whatever text to the screen you want - give it a try.\n",
    "Actually this text block is also interactive and you can change it. Try it out by double clicking on it!\n",
    "\n",
    "## Heading\n",
    "###  Subheading\n",
    "#### sub-subheading\n",
    "`code snippet`\n",
    "\n",
    "[Jupyter page](https://jupyter.org/)\n",
    "\n",
    "You can write your own notes and descriptions throughout the course by adding new blocks - hit the plus button above. \n",
    "\n",
    "If you want to learn more about how to format your text see here - [Markdown Cheatsheet](https://github.com/adam-p/markdown-here/wiki/Markdown-Cheatsheet)"
   ]
  },
  {
   "cell_type": "markdown",
   "id": "2ec4cc0b",
   "metadata": {},
   "source": [
    "- You can add a new cell by clicking the `+` on the toolbar. \n",
    "- From the dropdown menu next to it, you can choose the type of block. The most useful ones are `Code` and `Markdown`. This cell is written in Markdown, it contains text along with a few symbols to annotate the style of the text (headings, quotes, etc). \n",
    "- Once you are finished editing a text cell, press `Shift + Return` to return it to a readable state.\n",
    "\n",
    "The notebooks from the course need to be copied into your Noteable account, but will stay there throughout the course as the storage is persistent between sessions."
   ]
  },
  {
   "cell_type": "markdown",
   "id": "967d5b48",
   "metadata": {},
   "source": [
    "### Useful operations\n",
    "You can find these in the menus above - these are the main things you might need:\n",
    "\n",
    "Most importantly the small disk icon saves the notebook - so make sure to press that before leaving a notebook you are working on.\n",
    "\n",
    "- **Run** - To run code or text in a cell. You can also press `Shift+Enter` on your keyboard.\n",
    "- **Save** - To save the notebook click on the small disk icon. Always do that before leaving your notebook.\n",
    "- **Clearing all output** - `Kernel/Restart & Clear output`\n",
    "- **Deleting a block** - `Edit/Delete Cell`\n",
    "- **Saving a notebook locally to your own computer** - `File/Download As/Notebook(.ipynb)`\n",
    "- **Closing** - not recommended to close a notebook by closing the window. You should close it from the toolbar `File/Close and Halt`.\n",
    "- **Stop**: OR \"interrupt the kernel\" to stop the notebook from doing calculations if it is taking too long because of a coding mistake."
   ]
  },
  {
   "cell_type": "markdown",
   "id": "695a5920",
   "metadata": {},
   "source": [
    "## Tab completion\n",
    "\n",
    "One of the major benefits of Jupyter - when you start writing something you can press `Tab` before finishing it and the environemnt will type in the rest of it or propose various completions in a drop-down menu."
   ]
  },
  {
   "cell_type": "code",
   "execution_count": null,
   "id": "61120ad4",
   "metadata": {},
   "outputs": [],
   "source": [
    "firstString = \"Hello world\""
   ]
  },
  {
   "cell_type": "markdown",
   "id": "8adb1436",
   "metadata": {},
   "source": [
    "Run the block above, start typing `firstString` in the block below and press `Tab` at some point before you finish writing it. It should complete it automatically. This same trick can also be applied to the names of some of the tools we will use later as well."
   ]
  },
  {
   "cell_type": "markdown",
   "id": "54080c4f",
   "metadata": {},
   "source": [
    "## Importing modules\n",
    "\n",
    "To bring in the extra functionality of Pythons modules we need to use `import` statements to bring in the tools from those modules and be able to use them. Whenever you import a module once it remains loaded in the background until you reset the Jupyter kernel. To import the module NumPy we have to type in:"
   ]
  },
  {
   "cell_type": "code",
   "execution_count": null,
   "id": "35be52d1",
   "metadata": {},
   "outputs": [],
   "source": [
    "import numpy"
   ]
  },
  {
   "cell_type": "markdown",
   "id": "5e2e6151",
   "metadata": {},
   "source": [
    "Or we can type:"
   ]
  },
  {
   "cell_type": "code",
   "execution_count": null,
   "id": "8dd20b1a",
   "metadata": {},
   "outputs": [],
   "source": [
    "import numpy as np"
   ]
  },
  {
   "cell_type": "markdown",
   "id": "6554d4af",
   "metadata": {},
   "source": [
    "The way we perform the import makes a difference to how we use the functions available within the module. Let's suppose we want to do some maths with the NumPy module using the Cosine function to work out the Cosine of an angle (remember back to your school trigonometry!) - using the first style of import we would do that by typing:"
   ]
  },
  {
   "cell_type": "code",
   "execution_count": null,
   "id": "737e3a25",
   "metadata": {},
   "outputs": [],
   "source": [
    "numpy.cos(0.5)"
   ]
  },
  {
   "cell_type": "markdown",
   "id": "2b651246",
   "metadata": {},
   "source": [
    "Using the second style we would type:"
   ]
  },
  {
   "cell_type": "code",
   "execution_count": null,
   "id": "dabf3d4c",
   "metadata": {},
   "outputs": [],
   "source": [
    "np.cos(0.5)"
   ]
  },
  {
   "cell_type": "markdown",
   "id": "49dc351d",
   "metadata": {},
   "source": [
    "It saves us a bit of typing! There are some long module names so it is quite common to see the second style of import if you look at examples online, and it is usually the preferred style. \n",
    "To know what functions are available in a module we usually refer to the documentation available for the module on the web. \n",
    "\n",
    "Notes for the; \n",
    "\n",
    "[NumPy](https://numpy.org/doc/stable/) - to perform a wide variety of mathematical operations on numerical data documentation\n",
    "\n",
    "[Pandas](https://pandas.pydata.org/docs/) - for data structures and data analysis tools documentation\n",
    "\n",
    "[matplotlib](https://matplotlib.org/) - for data visualisation and plotting tutorials\n",
    "\n",
    "[seaborn](https://seaborn.pydata.org/) - it provides a high-level interface for drawing attractive and informative statistical graphics gallery, based on matplotlib\n",
    "\n",
    "[Altair](https://altair-viz.github.io) - Vega-Altair is a declarative visualization library for Python\n"
   ]
  },
  {
   "cell_type": "markdown",
   "id": "142c1de8",
   "metadata": {},
   "source": [
    "---\n",
    "\n",
    "# Some first steps in python\n",
    "\n",
    "This course isn't a course in programming, but if you haven't done any programming before here are some steps to start you off beginning to write some code. We will be only introducing code in order to manuipulate data and make data visualisations - and you will get to see plenty of examples of that, and we will try and keep the code relevant to that overall purpose. Later on there will also be some optional notebooks for you to use to learn some more general programming skills if that's something you want to do \n",
    "\n",
    "If you have more experience of coding then skip through this notebook faster and just try out the exercises at the end.  \n",
    "\n",
    "Below is an example of something very straightforward - outputting the result of the sum 21+456. The following cell is live code so that you can click on it, run it, edit it, re-run it, and so on. Try and run it then edit and change the sum to caclalate something different"
   ]
  },
  {
   "cell_type": "code",
   "execution_count": null,
   "id": "4231789f",
   "metadata": {},
   "outputs": [],
   "source": [
    "21+457"
   ]
  },
  {
   "cell_type": "markdown",
   "id": "24ba215b",
   "metadata": {},
   "source": [
    "Notice each time you run the cell the number next to it changes - don't worry about that it just marks the number of inputs made to python so far in a session.\n",
    "\n",
    "If we were doing such a sum a better way to print the output from it would be to use the print function to make the output to the screen nicer, that would work like so: "
   ]
  },
  {
   "cell_type": "code",
   "execution_count": null,
   "id": "767c01dd",
   "metadata": {},
   "outputs": [],
   "source": [
    "print(21+457)"
   ]
  },
  {
   "cell_type": "markdown",
   "id": "3584215e",
   "metadata": {},
   "source": [
    "Note now that the output is printed to the screen nicely instead of being an Out[] reponse from the python console - much prettier!\n",
    "\n",
    "\n",
    "While we are here - let's do the typical first program that you are usually directed to write in a new programming language - a \"Hello World!\" program.\n",
    "\n",
    "This is to get the computer to print out \n",
    "> Hello World!\n",
    "\n",
    "to the screen. It is a task which has become a cliche to write as a first programme (see [here](https://helloworldcollection.github.io) for instance for lots of different versions). \n",
    "\n",
    "In python it would look as follows:"
   ]
  },
  {
   "cell_type": "code",
   "execution_count": null,
   "id": "92d38f9b",
   "metadata": {},
   "outputs": [],
   "source": [
    "print(\"Hello World!\")"
   ]
  },
  {
   "cell_type": "markdown",
   "id": "5034c6da",
   "metadata": {},
   "source": [
    "The \"\" marks around the text to be printed out mark the text as being a *string* of characters making up your text - this is referred to as a string."
   ]
  },
  {
   "cell_type": "markdown",
   "id": "150a980e",
   "metadata": {},
   "source": [
    "# Using python as a calculator\n",
    "\n",
    "## Arithmetical operators\n",
    "\n",
    "Now let's see how we can make full use of our new calculator. Python supports a range of different arithmetical operators:\n",
    "\n",
    "| Symbol | Task Performed | Example | Result\n",
    "|----|---|---|---|\n",
    "| +  | Addition | 4 + 3 | 7 |\n",
    "| -  | Subtraction | 4 - 3 | 1 |\n",
    "| /  | Division | 7 / 2 | 3.5 |\n",
    "| *  | Multiplication | 4 * 3 | 12 |\n",
    "| **  | Power of | 7 ** 2 | 49 |\n",
    "\n",
    "There are also some more operations available as part of NumPy - think of the functions available as part of a scientific calculator (check out the NumPy documentation [here](https://numpy.org/doc/stable/reference/routines.math.html) to see more of them).\n",
    "\n",
    "Let's try some of these out"
   ]
  },
  {
   "cell_type": "code",
   "execution_count": null,
   "id": "1ad79974",
   "metadata": {},
   "outputs": [],
   "source": [
    "print(400/51)\n",
    "print(np.floor(400/51))\n",
    "print(7*51)\n",
    "print(np.remainder(400,51))"
   ]
  },
  {
   "cell_type": "markdown",
   "id": "913df673",
   "metadata": {},
   "source": [
    "Here is a blank python cell for you to mess around in - try using some functions and see what you get. \n",
    "As a starter - try coding up an implementation of the quadratic formula $\\left(\\frac{-b\\pm \\sqrt{b^2-4ac}}{2a} \\right)$ to find the two roots of $x^2+5x+2=0$ in turn. Recall the formula gives the solution of the equation for $ax^2+bx+c=0$."
   ]
  },
  {
   "cell_type": "code",
   "execution_count": null,
   "id": "e2a9d16f",
   "metadata": {},
   "outputs": [],
   "source": []
  },
  {
   "cell_type": "markdown",
   "id": "b19b55fe",
   "metadata": {},
   "source": [
    "## Some more python basics\n",
    "\n",
    "Some other basics of how python works that you should know.\n",
    "\n",
    "Python really cares about the spaces in the lines that you write. It uses blank spaces as a way of indicating that code is in a block (we'll show more examples of this in future), but you should know that spaces at the beginning of lines you write are important. Here is an example - try running it, you should get an error. \n",
    "Then try removing the spaces from the start of the second line and then try again."
   ]
  },
  {
   "cell_type": "code",
   "execution_count": null,
   "id": "fcb69777",
   "metadata": {},
   "outputs": [],
   "source": [
    "a='hello'   \n",
    "    print(a)"
   ]
  },
  {
   "cell_type": "markdown",
   "id": "b1b7480a",
   "metadata": {},
   "source": [
    "You can make your own functions in python. A function is just a piece of code that takes something as an input and either does something or outputs an answer using the input. The inputs are usually called the *arguments* of the function. We've already been using some examples that were written for us by using the NumPy functions above - indeed when we talked about tools that we can use inside python modules, these are mostly functions that we can use.\n",
    "\n",
    "Here is where python's use of blank spaces becomes important. You can define a function by \n",
    ">def function_name():\n",
    "\n",
    "Any arguments to the function go in the brackets.\n",
    "Then use spaces to denote what goes in the function, and return a value if you want to. Here's an example of a function called *add_numbers* that takes two numbers a and b and returns the result of them added together, the key new command is *def* to define a function."
   ]
  },
  {
   "cell_type": "code",
   "execution_count": null,
   "id": "ca9ad7ae",
   "metadata": {},
   "outputs": [],
   "source": [
    "def add_numbers(a,b):\n",
    "    c=a+b\n",
    "    return c\n",
    "print(add_numbers(3,4))"
   ]
  },
  {
   "cell_type": "markdown",
   "id": "853a47d8",
   "metadata": {},
   "source": [
    "Now, obviously, that function is completely pointless as it just does exactly the same as the symbol +, but it gives you a sense of how functions are written in python. Note the next line after the function - that you don't want to be included in the function (here a call to the function to add 3 and 4) needs to go back to having no spaces in front. \n",
    "\n",
    "The take-away message is that indents with four blank spaces (hit the spacebar to get them) denote the 'block' that a line belongs to.\n",
    "\n",
    "Here is one more example of a function that prints out the string 'hello', it just does something - it doesn't return a value. "
   ]
  },
  {
   "cell_type": "code",
   "execution_count": null,
   "id": "af65ac4a",
   "metadata": {},
   "outputs": [],
   "source": [
    "def print_hello():\n",
    "    print('hello')\n",
    "    \n",
    "print_hello()"
   ]
  },
  {
   "cell_type": "markdown",
   "id": "1738d924",
   "metadata": {},
   "source": [
    "## Comment lines\n",
    "\n",
    "It is a good idea to make comments in your code to explain what it is doing. The way to do this is to use a # character. If you include a # on a line then the rest of the line is ignored by the python interpreter. If you look at code examples online this is something you will see frequently."
   ]
  },
  {
   "cell_type": "code",
   "execution_count": null,
   "id": "2d1a1885",
   "metadata": {},
   "outputs": [],
   "source": [
    "def two_to_the_n(n):\n",
    "    #Function to calculate the value 2**n for a given n\n",
    "    return 2**n\n",
    "\n",
    "two_to_the_n(3)"
   ]
  },
  {
   "cell_type": "markdown",
   "id": "f71f8b7d",
   "metadata": {},
   "source": [
    "## WHAT is NEXT ?\n",
    "\n",
    "You will see; \n",
    "\n",
    "- additional .ipynb file on pandas functionalities with small examples \n",
    "- introduction to visualization in python with different libraries\n",
    "\n",
    "REMINDER\n",
    "\n",
    "- **If you have experienced the Insights Through Data (ITD) module in SEM1, you can recall examples of certain libraries including pandas easily we hope so after checking the examples feel free to skip `Introduction2Pandas.ipynb` file, and focus more on the visualization one, `Introduction2DataViz.ipynb`.**\n",
    "\n",
    "- **If you are a novice learner and wanted to make further exercises on numpy, pandas, please let us know!**"
   ]
  }
 ],
 "metadata": {
  "kernelspec": {
   "display_name": "Python 3 (ipykernel)",
   "language": "python",
   "name": "python3"
  },
  "language_info": {
   "codemirror_mode": {
    "name": "ipython",
    "version": 3
   },
   "file_extension": ".py",
   "mimetype": "text/x-python",
   "name": "python",
   "nbconvert_exporter": "python",
   "pygments_lexer": "ipython3",
   "version": "3.9.13"
  }
 },
 "nbformat": 4,
 "nbformat_minor": 5
}
